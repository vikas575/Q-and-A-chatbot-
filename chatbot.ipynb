{
  "cells": [
    {
      "cell_type": "markdown",
      "metadata": {},
      "source": [
        "# Retrieval Augmented Generation (RAG) for QA Bot\n",
        "This notebook demonstrates how to build a QA bot using Retrieval Augmented Generation (RAG) with OpenAI API and Pinecone DB."
      ]
    },
    {
      "cell_type": "code",
      "metadata": {},
      "source": [
        "# Install required libraries\n",
        "!pip install openai pinecone-client"
      ]
    },
    {
      "cell_type": "code",
      "metadata": {},
      "source": [
        "# Import required libraries\n",
        "import openai\n",
        "import pinecone\n",
        "import re\n",
        "from typing import List"
      ]
    },
    {
      "cell_type": "code",
      "metadata": {},
      "source": [
        "# Define Helper Functions\n",
        "def preprocess_text(text: str) -> str:\n",
        "    \"\"\"\n",
        "    Preprocess the input text by removing special characters and extra spaces.\n",
        "    \"\"\"\n",
        "    text = re.sub(r'\\s+', ' ', text)  # Replace multiple spaces with a single space\n",
        "    text = re.sub(r'[^\\w\\s]', '', text)  # Remove special characters\n",
        "    return text.strip()"
      ]
    },
    {
      "cell_type": "code",
      "metadata": {},
      "source": [
        "# Define your OpenAI API key\n",
        "openai_api_key = \"sk-...QqAA\"  # Ensure this is a string\n",
        "\n",
        "# Configure the OpenAI client with the API key\n",
        "openai.api_key = openai_api_key\n",
        "\n",
        "# Test the OpenAI API setup by making a simple request\n",
        "try:\n",
        "    response = openai.Completion.create(\n",
        "        engine=\"davinci\",\n",
        "        prompt=\"Hello, world!\",\n",
        "        max_tokens=5\n",
        "    )\n",
        "    # Print the response to verify the setup\n",
        "    print(response.choices[0].text.strip())\n",
        "except Exception as e:\n",
        "    print(f\"Error with OpenAI API request: {e}\")"
      ]
    },
    {
      "cell_type": "code",
      "metadata": {},
      "source": [
        "# Define your Pinecone API key\n",
        "pinecone_api_key = \"pcsk_3mvD2b_***********\"\n",
        "\n",
        "# Initialize the Pinecone client with the API key\n",
        "try:\n",
        "    pinecone.init(api_key=pinecone_api_key)\n",
        "    print(\"Pinecone client initialized successfully.\")\n",
        "except Exception as e:\n",
        "    print(f\"Error initializing Pinecone client: {e}\")\n",
        "\n",
        "# Create a new index in Pinecone\n",
        "index_name = \"qa_bot_index\"\n",
        "try:\n",
        "    pinecone.create_index(name=index_name, dimension=512, metric=\"cosine\")\n",
        "    print(f\"Index '{index_name}' created successfully.\")\n",
        "except Exception as e:\n",
        "    print(f\"Error creating index '{index_name}': {e}\")"
      ]
    },
    {
      "cell_type": "code",
      "metadata": {},
      "source": [
        "# Define functions to generate embeddings, upsert embeddings, and query the index\n",
        "def generate_embeddings(texts: List[str]) -> List[List[float]]:\n",
        "    \"\"\"Generate embeddings for a list of texts using OpenAI API.\"\"\"\n",
        "    try:\n",
        "        response = openai.Embedding.create(input=texts, engine=\"text-embedding-ada-002\")\n",
        "        embeddings = [embedding['embedding'] for embedding in response['data']]\n",
        "    except Exception as e:\n",
        "        print(f\"Error generating embeddings: {e}\")\n",
        "        embeddings = []\n",
        "    return embeddings\n",
        "\n",
        "def upsert_embeddings(index, texts: List[str], ids: List[str]):\n",
        "    \"\"\"Upsert embeddings into the Pinecone index.\"\"\"\n",
        "    preprocessed_texts = [preprocess_text(text) for text in texts]\n",
        "    embeddings = generate_embeddings(preprocessed_texts)\n",
        "    vectors = [(id, embedding) for id, embedding in zip(ids, embeddings)]\n",
        "    index.upsert(vectors)\n",
        "\n",
        "def query_index(index, query_text: str, top_k: int = 5) -> List[str]:\n",
        "    \"\"\"Query the Pinecone index with a text and return the top_k most similar texts.\"\"\"\n",
        "    preprocessed_query = preprocess_text(query_text)\n",
        "    query_embedding = generate_embeddings([preprocessed_query])[0]\n",
        "    query_response = index.query(queries=[query_embedding], top_k=top_k)\n",
        "    if not query_response or 'matches' not in query_response:\n",
        "        return []\n",
        "    return [match['id'] for match in query_response['matches']]"
      ]
    },
    {
      "cell_type": "code",
      "metadata": {},
      "source": [
        "# Example usage\n",
        "documents = [\n",
        "    \"Our return policy allows returns within 30 days of purchase.\",\n",
        "    \"You can return items within 30 days for a full refund.\",\n",
        "    \"Returns are accepted within 30 days of the purchase date.\",\n",
        "    \"You have 30 days to return an item from the date you received it.\",\n",
        "    \"Items can be returned within 30 days for a full refund.\"\n",
        "]\n",
        "document_ids = [f\"doc_{i}\" for i in range(len(documents))]\n",
        "\n",
        "upsert_embeddings(index, documents, document_ids)\n",
        "\n",
        "query_text = \"What is the return policy?\"\n",
        "retrieved_document_ids = query_index(index, query_text)\n",
        "retrieved_documents = [documents[int(id.split('_')[1])] for id in retrieved_document_ids]\n",
        "rag_answer = generate_answer(query_text, retrieved_documents)\n",
        "\n",
        "print(\"RAG Model Answer:\", rag_answer)"
      ]
    }
  ],
  "metadata": {
    "kernelspec": {
      "display_name": "Python 3",
      "language": "python",
      "name": "python3"
    },
    "language_info": {
      "codemirror_mode": {
        "name": "ipython",
        "version": 3
      },
      "file_extension": ".py",
      "mimetype": "text/x-python",
      "name": "python",
      "nbconvert_exporter": "python",
      "pygments_lexer": "ipython3",
      "version": "3.7.10"
    }
  },
  "nbformat": 4,
  "nbformat_minor": 4
}